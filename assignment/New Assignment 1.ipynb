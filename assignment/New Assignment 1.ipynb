{
 "cells": [
  {
   "cell_type": "markdown",
   "metadata": {
    "deletable": false,
    "editable": false,
    "nbgrader": {
     "checksum": "ed755f88fd1d8449b34047eca65990d0",
     "grade": false,
     "grade_id": "cell-e9469d5507bcd8ea",
     "locked": true,
     "schema_version": 1,
     "solution": false
    }
   },
   "source": [
    "# Assignment 01: Supervised learning, Linear models, and Loss functions\n",
    "\n",
    "\n",
    "\n",
    "## Data set \n",
    "\n",
    "In this assignment, you'll be working with some data on possums.  It's a relatively small data set, but it's a good size to get you started with ordinary least squares (OLS) and least absolute deviation (LAD), and to gain experience with supervised learning in general.  You're going to write your own methods to fit both OLS and LAD models, and then at the end compare them to the models produced by the `statsmodels` package.\n",
    "\n",
    "For this assignment, we will examine some data representing possums in Australia and New Guinea.\n",
    "The code below loads in a pandas data frame with 46 observations on the following 6 variables:\n",
    "\n",
    "sex: Sex, either m (male) or f (female).  \n",
    "age: Age in years.  \n",
    "headL: Head length, in mm.  \n",
    "skullW: Skull width, in mm.  \n",
    "totalL: Total length, in cm.  \n",
    "tailL: Tail length, in cm."
   ]
  },
  {
   "cell_type": "markdown",
   "metadata": {
    "deletable": false,
    "editable": false,
    "nbgrader": {
     "checksum": "934f3d0215af307e91b80c6f69f4ad1a",
     "grade": false,
     "grade_id": "cell-1be2a58cd5936840",
     "locked": true,
     "schema_version": 1,
     "solution": false
    }
   },
   "source": [
    "## Task 1: OLS estimation and plotting\n"
   ]
  },
  {
   "cell_type": "code",
   "execution_count": 2,
   "metadata": {
    "deletable": false,
    "editable": false,
    "nbgrader": {
     "checksum": "99532d132694eec53bf6393c4c9f98d1",
     "grade": false,
     "grade_id": "cell-03c1e147d3ce4866",
     "locked": true,
     "schema_version": 1,
     "solution": false
    }
   },
   "outputs": [],
   "source": [
    "#It's dangerous to go alone.  Take these!\n",
    "import matplotlib.pyplot as plt \n",
    "import numpy as np\n",
    "import pandas as pd\n",
    "import scipy.stats as ss \n",
    "import scipy.optimize as so\n",
    "import statsmodels.api as sm\n",
    "import statsmodels.formula.api as smf\n",
    "\n",
    "#Read in the data you will need for this assignment\n",
    "possum_data=pd.read_csv('possum.csv')"
   ]
  },
  {
   "cell_type": "markdown",
   "metadata": {
    "deletable": false,
    "editable": false,
    "nbgrader": {
     "checksum": "8f0f976f9d8ca247c622e11b0b09a3ec",
     "grade": false,
     "grade_id": "cell-79ccc5f0096af1b5",
     "locked": true,
     "schema_version": 1,
     "solution": false
    }
   },
   "source": [
    "### Question 1:\n",
    "\n",
    "Investigate the relationship between the possum's age and it's tail length by plotting a scatter plot of the `age` and `tailL` columns. Label your plot and your axes. You might want to add an `alpha` in case some data are overlapping.  Perform any other exploratory analysis you think might be useful (optional.)"
   ]
  },
  {
   "cell_type": "code",
   "execution_count": 32,
   "metadata": {
    "deletable": false,
    "nbgrader": {
     "checksum": "a892afff62c39e657a195d50f2e24da1",
     "grade": true,
     "grade_id": "cell-edd979fb2a7259e8",
     "locked": false,
     "points": 5,
     "schema_version": 1,
     "solution": true
    }
   },
   "outputs": [
    {
     "data": {
      "image/png": "[encoded data removed]",
      "text/plain": [
       "<Figure size 432x288 with 1 Axes>"
      ]
     },
     "metadata": {
      "needs_background": "light"
     },
     "output_type": "display_data"
    }
   ],
   "source": [
    "# YOUR CODE HERE\n",
    "possum_data=pd.read_csv('possum.csv')\n",
    "age = possum_data['age']\n",
    "tail = possum_data['tailL']\n",
    "plt.scatter(age,tail,alpha = 0.5)\n",
    "plt.xlabel('age')\n",
    "plt.ylabel('tail')\n",
    "plt.title('Relationship between the age and tail length')\n",
    "plt.show()\n"
   ]
  },
  {
   "cell_type": "markdown",
   "metadata": {
    "deletable": false,
    "editable": false,
    "nbgrader": {
     "checksum": "06b100d046292dfb627e90ad458353f0",
     "grade": false,
     "grade_id": "cell-0462afd46977b005",
     "locked": true,
     "schema_version": 1,
     "solution": false
    }
   },
   "source": [
    "### Question 2:\n",
    "\n",
    "Recall that the linear model, we obtain predictions by computing \n",
    "\n",
    "$$ \\mathbf{\\hat{y}} = \\mathbf{X} \\beta $$\n",
    "\n",
    "Here, $\\mathbf{X}$ is a design matrix, $\\beta$ are coefficients, and $\\mathbf{\\hat{y}}$ are fitted/estimates/predicted values. Define a model-prediction function `yhat = linearModelPredict(beta,X)` that takes a parameter vector `beta` and a matrix `X` of inputs, and produces a vector `yhat` containing the predicted (fitted) values that correspond to each row of the input matrix. Assume that `beta` has $p$ rows and $1$ column, and that `X` has $n$ rows and $p$ columns.\n",
    "\n",
    "Hint: As of Python 3.5, the `@` symbol can be used for matrix multiplication."
   ]
  },
  {
   "cell_type": "code",
   "execution_count": 5,
   "metadata": {
    "deletable": false,
    "nbgrader": {
     "checksum": "b65fc40a6bc00a40421f973f144d5180",
     "grade": false,
     "grade_id": "cell-4827ca1f7be48e94",
     "locked": false,
     "schema_version": 1,
     "solution": true
    }
   },
   "outputs": [],
   "source": [
    "import numpy as np\n",
    "\n",
    "def linearModelPredict(b,X):\n",
    "    C = np.array(b) @ np.array(X)\n",
    "    print(C)\n",
    "    raise NotImplementedError()\n",
    "    #return yp\n"
   ]
  },
  {
   "cell_type": "markdown",
   "metadata": {
    "deletable": false,
    "editable": false,
    "nbgrader": {
     "checksum": "51e02c8b3c8797aa16514462d764055c",
     "grade": false,
     "grade_id": "cell-468347a5b7c4418c",
     "locked": true,
     "schema_version": 1,
     "solution": false
    }
   },
   "source": [
    "### Question 3:\n",
    "\n",
    "Write a function `linearModelLossRSS` which computes the loss function for an OLS model parameterized by $\\beta$, as well as the gradient of the loss. Define a squared error loss function `(loss, gradient) = linearModelLossRSS(beta,X,y)` that takes a parameter vector `beta`, a matrix `X` of inputs, and a vector `y` of observed values, and produces the sum of squared errors between the observed and predicted (fitted) values, along with the gradient of the loss. Assume that `theta` has $p$ rows and $1$ column, and that `X` has $n$ rows and $p$ column, and that `y` has `n` rows and `1` column."
   ]
  },
  {
   "cell_type": "code",
   "execution_count": 21,
   "metadata": {
    "deletable": false,
    "nbgrader": {
     "checksum": "3e8da8d9d20d2a362f6633dadeb1c14c",
     "grade": false,
     "grade_id": "cell-a3c4167aaca2733a",
     "locked": false,
     "schema_version": 1,
     "solution": true
    }
   },
   "outputs": [],
   "source": [
    "import numpy as np\n",
    "\n",
    "def linearModelLossRSS(b,X,y):\n",
    "    # YOUR CODE HERE\n",
    "    predY = simpleRegPredict(b,X)\n",
    "    residuals = y - predY\n",
    "    residual_sum_of_squares = sum(residuals**2)\n",
    "    \n",
    "    gradient = np.zeros(2)\n",
    "    gradient[0]=...\n",
    "    gradient[1]=...\n",
    "    raise NotImplementedError()\n",
    "    return (residual_sum_of_squares, gradient)\n",
    "\n"
   ]
  },
  {
   "cell_type": "markdown",
   "metadata": {
    "deletable": false,
    "editable": false,
    "nbgrader": {
     "checksum": "cab0fe1084628c892313e0b145ea80a9",
     "grade": false,
     "grade_id": "cell-943a2a2a74fe1d86",
     "locked": true,
     "schema_version": 1,
     "solution": false
    }
   },
   "source": [
    "### Question 4: \n",
    "\n",
    "#### Part 1\n",
    "\n",
    "Now that you've implemented a loss function in question 3, it is now time to minimize it to fit the data!\n",
    "\n",
    "Write a function `linearModelFit` to fit a linear model.  The function should take as its first argument an 2d-array `X` which houses the input data with one example per row, as its second argument a 1d-array `y` of outcomes with one example per row, and as its third argument a function `lossfcn` which returns as a tuple the value of the loss, as well as the gradient of the loss.\n",
    "\n",
    "Use this function to estimate the parameters that describe the relationship between a possum's age and its tail length, i.e., $\\widehat{\\mathit{TailLength}} = \\beta_0 + \\beta_1 \\mathit{age}$."
   ]
  },
  {
   "cell_type": "code",
   "execution_count": 25,
   "metadata": {
    "deletable": false,
    "nbgrader": {
     "checksum": "665e16ea4f065c06205fd39030e2f477",
     "grade": false,
     "grade_id": "cell-6b7a37fd82744050",
     "locked": false,
     "schema_version": 1,
     "solution": true
    }
   },
   "outputs": [
    {
     "ename": "IndentationError",
     "evalue": "unindent does not match any outer indentation level (<tokenize>, line 9)",
     "output_type": "error",
     "traceback": [
      "\u001b[0;36m  File \u001b[0;32m\"<tokenize>\"\u001b[0;36m, line \u001b[0;32m9\u001b[0m\n\u001b[0;31m    return (estimated_betas,R2)\u001b[0m\n\u001b[0m    ^\u001b[0m\n\u001b[0;31mIndentationError\u001b[0m\u001b[0;31m:\u001b[0m unindent does not match any outer indentation level\n"
     ]
    }
   ],
   "source": [
    "from numpy import array \n",
    "import scipy.optimize as so\n",
    "\n",
    "def linearModelFit(X,y,lossfcn = linearModelLossRSS):\n",
    "    #estimate b to 0\n",
    "    #minimize the lossfcn\n",
    "    b0 = [0]\n",
    "    so.minimize(lossfcn,b0,args=(X,y))\n",
    "    #computer RSS for linear fit\n",
    "    linearModelLossRSS(b,x,y)\n",
    "    R2 = 1 - (linearModelLossRSS(b,x,y)/#TSS)    \n",
    "    return (estimated_betas,R2)\n",
    "\n"
   ]
  },
  {
   "cell_type": "code",
   "execution_count": null,
   "metadata": {
    "deletable": false,
    "editable": false,
    "nbgrader": {
     "checksum": "bb234d387f0af37438ab0f67e64ebd04",
     "grade": true,
     "grade_id": "cell-82edf839cc3f9f05",
     "locked": true,
     "points": 5,
     "schema_version": 1,
     "solution": false
    }
   },
   "outputs": [],
   "source": [
    "\n",
    "    \n",
    "\n"
   ]
  },
  {
   "cell_type": "markdown",
   "metadata": {
    "deletable": false,
    "editable": false,
    "nbgrader": {
     "checksum": "e330c80ad56a44dd047ec5fe6d7ff175",
     "grade": false,
     "grade_id": "cell-2f605e747adce65f",
     "locked": true,
     "schema_version": 1,
     "solution": false
    }
   },
   "source": [
    "#### Part 2\n",
    "\n",
    "Using your solution, plot the data points and the fitted line below. Label your plot and your axes."
   ]
  },
  {
   "cell_type": "code",
   "execution_count": 26,
   "metadata": {
    "deletable": false,
    "nbgrader": {
     "checksum": "b138f9ba0714a5efb619f9d3171c5bc9",
     "grade": true,
     "grade_id": "cell-1af2aaecb6fd331a",
     "locked": false,
     "points": 5,
     "schema_version": 1,
     "solution": true
    }
   },
   "outputs": [
    {
     "ename": "NameError",
     "evalue": "name 'LinearModelLossRSS' is not defined",
     "output_type": "error",
     "traceback": [
      "\u001b[0;31m---------------------------------------------------------------------------\u001b[0m",
      "\u001b[0;31mNameError\u001b[0m                                 Traceback (most recent call last)",
      "\u001b[0;32m<ipython-input-26-cbab3560f7d2>\u001b[0m in \u001b[0;36m<module>\u001b[0;34m\u001b[0m\n\u001b[1;32m      1\u001b[0m \u001b[0;32mimport\u001b[0m \u001b[0mscipy\u001b[0m\u001b[0;34m.\u001b[0m\u001b[0moptimize\u001b[0m \u001b[0;32mas\u001b[0m \u001b[0mso\u001b[0m\u001b[0;34m\u001b[0m\u001b[0;34m\u001b[0m\u001b[0m\n\u001b[1;32m      2\u001b[0m \u001b[0mbstart\u001b[0m\u001b[0;34m=\u001b[0m\u001b[0;34m[\u001b[0m\u001b[0;36m0\u001b[0m\u001b[0;34m,\u001b[0m\u001b[0;36m0\u001b[0m\u001b[0;34m]\u001b[0m\u001b[0;34m\u001b[0m\u001b[0;34m\u001b[0m\u001b[0m\n\u001b[0;32m----> 3\u001b[0;31m \u001b[0mRESULT\u001b[0m\u001b[0;34m=\u001b[0m\u001b[0mso\u001b[0m\u001b[0;34m.\u001b[0m\u001b[0mminimize\u001b[0m\u001b[0;34m(\u001b[0m\u001b[0mLinearModelLossRSS\u001b[0m\u001b[0;34m,\u001b[0m\u001b[0mbstart\u001b[0m\u001b[0;34m,\u001b[0m\u001b[0margs\u001b[0m\u001b[0;34m=\u001b[0m\u001b[0;34m(\u001b[0m\u001b[0mx\u001b[0m\u001b[0;34m,\u001b[0m \u001b[0my\u001b[0m\u001b[0;34m)\u001b[0m\u001b[0;34m,\u001b[0m\u001b[0mjac\u001b[0m\u001b[0;34m=\u001b[0m\u001b[0;32mTrue\u001b[0m\u001b[0;34m)\u001b[0m\u001b[0;34m\u001b[0m\u001b[0;34m\u001b[0m\u001b[0m\n\u001b[0m\u001b[1;32m      4\u001b[0m \u001b[0;34m\u001b[0m\u001b[0m\n\u001b[1;32m      5\u001b[0m \u001b[0mb\u001b[0m\u001b[0;34m=\u001b[0m\u001b[0mRESULT\u001b[0m\u001b[0;34m.\u001b[0m\u001b[0mx\u001b[0m\u001b[0;34m\u001b[0m\u001b[0;34m\u001b[0m\u001b[0m\n",
      "\u001b[0;31mNameError\u001b[0m: name 'LinearModelLossRSS' is not defined"
     ]
    }
   ],
   "source": [
    "import scipy.optimize as so\n",
    "bstart=[0,0]\n",
    "RESULT=so.minimize(LinearModelLossRSS,bstart,args=(x, y),jac=True)\n",
    "\n",
    "b=RESULT.x       \n",
    "yp=linearModelPredict(b,x)\n",
    "\n",
    "import matplotlib.pyplot as plt\n",
    "from matplotlib import style\n",
    "style.use('ggplot')\n",
    "\n",
    "regression_line = linearModelFit(tailL,age,lossfcn)\n",
    "for x in xs :\n",
    "    regression_line\n",
    "\n",
    "possum_data=pd.read_csv('possum.csv')\n",
    "age = possum_data['age']\n",
    "tail = possum_data['tailL']\n",
    "plt.scatter(age,tail,alpha = 0.5)\n",
    "plt.xlabel('age')\n",
    "plt.ylabel('tail')\n",
    "plt.title('Relationship between the age and tail length')\n",
    "plt.plot(xs,regression_line)\n",
    "plt.show()\n",
    "\n"
   ]
  },
  {
   "cell_type": "markdown",
   "metadata": {
    "deletable": false,
    "editable": false,
    "nbgrader": {
     "checksum": "cf57584a09cfc7aad4c82e78021c069f",
     "grade": false,
     "grade_id": "cell-dd6a59a07b35a35c",
     "locked": true,
     "schema_version": 1,
     "solution": false
    }
   },
   "source": [
    "# Task 2: Least Absolute Deviation Loss"
   ]
  },
  {
   "cell_type": "raw",
   "metadata": {},
   "source": [
    "\n",
    "\n",
    "### Question 1: \n",
    "\n",
    "In the previous section, we worked with the squared loss.  Now, we'll implement a linear model with least absolute deviation loss.\n",
    "\n",
    "Write a function `linearModelLossLAD` which computes the least absolute deviation loss function for a linear model  parameterized by $\\beta$, as well as the gradient of the loss.  The function should take as its first argument a 1d-array `beta` of coefficients for the linear model, as its second argument a 2d-array `X` of data, and as its third argument a 1d-array `y` of observed outcomes.\n",
    "\n"
   ]
  },
  {
   "cell_type": "code",
   "execution_count": 28,
   "metadata": {
    "deletable": false,
    "nbgrader": {
     "checksum": "24006c069d9c5caab13c7d133be99e63",
     "grade": false,
     "grade_id": "cell-19835bca47364ef3",
     "locked": false,
     "schema_version": 1,
     "solution": true
    }
   },
   "outputs": [],
   "source": [
    "def linearModelLossLAD(b,X,y):\n",
    "    predY = simpleRegPredict(b,X)\n",
    "    residuals = y - predY\n",
    "    sum_abs_res = sum (abs (residuals))\n",
    "    grad = sum (X * np.sign (residuals))\n",
    "\n",
    "    return (sum_abs_res, grad)   \n"
   ]
  },
  {
   "cell_type": "markdown",
   "metadata": {
    "deletable": false,
    "editable": false,
    "nbgrader": {
     "checksum": "6058ec251c80efaeb6231d5af08bc9db",
     "grade": false,
     "grade_id": "cell-fa6081b9ab7bbe2a",
     "locked": true,
     "schema_version": 1,
     "solution": false
    }
   },
   "source": [
    "### Question 2\n",
    "\n",
    "Use `linearModelLossLAD` to fit a linear model with least absolute deviation loss.  Report the coefficients of the model, the R squared, and plot the fit."
   ]
  },
  {
   "cell_type": "code",
   "execution_count": 30,
   "metadata": {
    "deletable": false,
    "nbgrader": {
     "checksum": "afe8ee92d2eae0cdce7ed27d5469de67",
     "grade": false,
     "grade_id": "cell-e79c9db0f115eaf6",
     "locked": false,
     "schema_version": 1,
     "solution": true
    }
   },
   "outputs": [],
   "source": [
    "import matplotlib.pyplot as plt \n",
    "import numpy as np\n",
    "import pandas as pd\n",
    "import scipy.stats as ss \n",
    "import scipy.optimize as so\n",
    "import statsmodels.api as sm\n",
    "import statsmodels.formula.api as smf\n",
    "\n",
    "def LADFit(x,y,lossfcn = linearModelLossLAD):\n",
    "    b0 =[0]\n",
    "    so.minimize(lossfcn, b0, args = (x,y))\n",
    "    linearModelLossLAD(b,x,y)\n",
    "    yp = linearModelPredict(b,x)\n"
   ]
  },
  {
   "cell_type": "code",
   "execution_count": null,
   "metadata": {
    "deletable": false,
    "editable": false,
    "nbgrader": {
     "checksum": "7cd2df424700cfc0186d49b0e417029f",
     "grade": true,
     "grade_id": "cell-49ff938735dfe56f",
     "locked": true,
     "points": 1,
     "schema_version": 1,
     "solution": false
    }
   },
   "outputs": [],
   "source": [
    "\n",
    "\n"
   ]
  },
  {
   "cell_type": "markdown",
   "metadata": {
    "deletable": false,
    "editable": false,
    "nbgrader": {
     "checksum": "aa763e935b835a035f5be49a530f9c75",
     "grade": false,
     "grade_id": "cell-8589f0d7e9ec15b3",
     "locked": true,
     "schema_version": 1,
     "solution": false
    }
   },
   "source": [
    "Plot the fit below"
   ]
  },
  {
   "cell_type": "code",
   "execution_count": null,
   "metadata": {
    "deletable": false,
    "nbgrader": {
     "checksum": "c4eb00628615e30f3227f28ffce114c0",
     "grade": true,
     "grade_id": "cell-33c9fc44613172a8",
     "locked": false,
     "points": 0,
     "schema_version": 1,
     "solution": true
    }
   },
   "outputs": [],
   "source": [
    "import scipy.optimize as so\n",
    "bstart=[0,0]\n",
    "RESULT=so.minimize(LinearModelLossRSS,bstart,args=(x, y),jac=True)\n",
    "\n",
    "b=RESULT.x       \n",
    "yp=linearModelPredict(b,x)\n",
    "\n",
    "import matplotlib.pyplot as plt\n",
    "from matplotlib import style\n",
    "style.use('ggplot')\n",
    "\n",
    "regression_line = linearModelFit(tailL,age,lossfcn)\n",
    "for x in xs :\n",
    "    regression_line\n",
    "\n",
    "possum_data=pd.read_csv('possum.csv')\n",
    "age = possum_data['age']\n",
    "tail = possum_data['tailL']\n",
    "plt.scatter(age,tail,alpha = 0.5)\n",
    "plt.xlabel('age')\n",
    "plt.ylabel('tail')\n",
    "plt.title('Relationship between the age and tail length')\n",
    "plt.plot(xs,regression_line)\n",
    "plt.show()\n",
    "\n",
    "\n"
   ]
  },
  {
   "cell_type": "markdown",
   "metadata": {
    "deletable": false,
    "editable": false,
    "nbgrader": {
     "checksum": "d272733a3c47bfc9acc8ac6be130df5d",
     "grade": false,
     "grade_id": "cell-72968fb871b8039c",
     "locked": true,
     "schema_version": 1,
     "solution": false
    }
   },
   "source": [
    "# Task 3: Comparing With `Statsmodels`\n",
    "\n",
    "\n",
    "Fit both an OLS and a LAD model with `statsmodels`. Compare coefficient estimates, R squared values, and plot the fits. Discuss any differences or similarities between your implementation and `statsmodels`, and discuss any differences between the OLS model and the LAD model."
   ]
  },
  {
   "cell_type": "code",
   "execution_count": 3,
   "metadata": {
    "deletable": false,
    "nbgrader": {
     "checksum": "0eb15994c4e0b0adc78a4f90af5cad85",
     "grade": true,
     "grade_id": "cell-0c3764596ae0cbb9",
     "locked": false,
     "points": 0,
     "schema_version": 1,
     "solution": true
    }
   },
   "outputs": [
    {
     "name": "stdout",
     "output_type": "stream",
     "text": [
      "                            OLS Regression Results                            \n",
      "==============================================================================\n",
      "Dep. Variable:                    age   R-squared:                       0.223\n",
      "Model:                            OLS   Adj. R-squared:                  0.205\n",
      "Method:                 Least Squares   F-statistic:                     12.62\n",
      "Date:                Mon, 16 Sep 2019   Prob (F-statistic):           0.000925\n",
      "Time:                        15:36:29   Log-Likelihood:                -92.800\n",
      "No. Observations:                  46   AIC:                             189.6\n",
      "Df Residuals:                      44   BIC:                             193.3\n",
      "Df Model:                           1                                         \n",
      "Covariance Type:            nonrobust                                         \n",
      "==============================================================================\n",
      "                 coef    std err          t      P>|t|      [0.025      0.975]\n",
      "------------------------------------------------------------------------------\n",
      "Intercept     -6.7865      3.037     -2.235      0.031     -12.907      -0.666\n",
      "tailL          0.2957      0.083      3.552      0.001       0.128       0.463\n",
      "==============================================================================\n",
      "Omnibus:                        3.466   Durbin-Watson:                   1.676\n",
      "Prob(Omnibus):                  0.177   Jarque-Bera (JB):                3.296\n",
      "Skew:                           0.623   Prob(JB):                        0.192\n",
      "Kurtosis:                       2.593   Cond. No.                         404.\n",
      "==============================================================================\n",
      "\n",
      "Warnings:\n",
      "[1] Standard Errors assume that the covariance matrix of the errors is correctly specified.\n"
     ]
    },
    {
     "ename": "NameError",
     "evalue": "name 'regression' is not defined",
     "output_type": "error",
     "traceback": [
      "\u001b[0;31m---------------------------------------------------------------------------\u001b[0m",
      "\u001b[0;31mNameError\u001b[0m                                 Traceback (most recent call last)",
      "\u001b[0;32m<ipython-input-3-d9999f18b1b2>\u001b[0m in \u001b[0;36m<module>\u001b[0;34m\u001b[0m\n\u001b[1;32m     10\u001b[0m \u001b[0mprint\u001b[0m\u001b[0;34m(\u001b[0m\u001b[0mresults\u001b[0m\u001b[0;34m.\u001b[0m\u001b[0msummary\u001b[0m\u001b[0;34m(\u001b[0m\u001b[0;34m)\u001b[0m\u001b[0;34m)\u001b[0m\u001b[0;34m\u001b[0m\u001b[0;34m\u001b[0m\u001b[0m\n\u001b[1;32m     11\u001b[0m \u001b[0;34m\u001b[0m\u001b[0m\n\u001b[0;32m---> 12\u001b[0;31m \u001b[0mfigure\u001b[0m \u001b[0;34m=\u001b[0m \u001b[0msmgraphics\u001b[0m\u001b[0;34m.\u001b[0m\u001b[0mregressionplots\u001b[0m\u001b[0;34m.\u001b[0m\u001b[0mplot_fit\u001b[0m\u001b[0;34m(\u001b[0m\u001b[0mregression\u001b[0m\u001b[0;34m,\u001b[0m\u001b[0;36m1\u001b[0m\u001b[0;34m)\u001b[0m\u001b[0;34m\u001b[0m\u001b[0;34m\u001b[0m\u001b[0m\n\u001b[0m\u001b[1;32m     13\u001b[0m \u001b[0;34m\u001b[0m\u001b[0m\n",
      "\u001b[0;31mNameError\u001b[0m: name 'regression' is not defined"
     ]
    }
   ],
   "source": [
    "import statsmodels.api as sm\n",
    "import statsmodels.formula.api as smf \n",
    "import statsmodels.graphics as smgraphics\n",
    "import pandas as pd\n",
    "\n",
    "\n",
    "possum_data=pd.read_csv('possum.csv')\n",
    "results = smf.ols('age~tailL', data = possum_data).fit()\n",
    "print(results.summary())\n",
    "\n",
    "figure = smgraphics.regressionplots.plot_fit(regression,1)\n",
    "\n"
   ]
  },
  {
   "cell_type": "markdown",
   "metadata": {
    "deletable": false,
    "editable": false,
    "nbgrader": {
     "checksum": "7e629999a11a89294dfb98e910fca049",
     "grade": false,
     "grade_id": "cell-b53337df54c544f0",
     "locked": true,
     "schema_version": 1,
     "solution": false
    }
   },
   "source": [
    "Discuss differences below."
   ]
  },
  {
   "cell_type": "markdown",
   "metadata": {
    "deletable": false,
    "nbgrader": {
     "checksum": "82444d7e75df67ce5871818bd0c8c991",
     "grade": true,
     "grade_id": "cell-57ea3123d7a6df1d",
     "locked": false,
     "points": 1,
     "schema_version": 1,
     "solution": true
    }
   },
   "source": [
    "YOUR ANSWER HERE"
   ]
  },
  {
   "cell_type": "code",
   "execution_count": 14,
   "metadata": {},
   "outputs": [
    {
     "ename": "SyntaxError",
     "evalue": "invalid syntax (<ipython-input-14-e924d2167a48>, line 1)",
     "output_type": "error",
     "traceback": [
      "\u001b[0;36m  File \u001b[0;32m\"<ipython-input-14-e924d2167a48>\"\u001b[0;36m, line \u001b[0;32m1\u001b[0m\n\u001b[0;31m    I Can tell the much of the difference between the statsmodel that we use and I worked on for the assignments because I could not finish it.\u001b[0m\n\u001b[0m        ^\u001b[0m\n\u001b[0;31mSyntaxError\u001b[0m\u001b[0;31m:\u001b[0m invalid syntax\n"
     ]
    }
   ],
   "source": [
    "#There should be almost no difference between the statsmodels and the one with I predict. "
   ]
  },
  {
   "cell_type": "code",
   "execution_count": null,
   "metadata": {},
   "outputs": [],
   "source": []
  }
 ],
 "metadata": {
  "celltoolbar": "Edit Metadata",
  "kernelspec": {
   "display_name": "Python 3",
   "language": "python",
   "name": "python3"
  },
  "language_info": {
   "codemirror_mode": {
    "name": "ipython",
    "version": 3
   },
   "file_extension": ".py",
   "mimetype": "text/x-python",
   "name": "python",
   "nbconvert_exporter": "python",
   "pygments_lexer": "ipython3",
   "version": "3.6.7"
  }
 },
 "nbformat": 4,
 "nbformat_minor": 2
}
