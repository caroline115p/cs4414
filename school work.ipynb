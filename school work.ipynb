{
 "cells": [
  {
   "cell_type": "markdown",
   "metadata": {},
   "source": [
    "# Midterm CS4414/9637/9114"
   ]
  },
  {
   "cell_type": "markdown",
   "metadata": {},
   "source": [
    "# Student ID: 250901088 <font color = 'red'> (XX / 130) </font>"
   ]
  },
  {
   "cell_type": "markdown",
   "metadata": {},
   "source": [
    "## General comments \n",
    "This Midterm integrates knowledge and skills acquired in the first half of the semester, especially in the 5 Assignments. You are allowed to use any document and source on your computer and look up documents on the internet. **You or not allowed to share documents, or communicate in any other way with people inside or outside the classroom during the midterm.** To finish the midterm in the alloted 2 hrs, you will have to work efficiently. **Read the entirety of each question carefully. Note that several questions have coding parts and explanation parts.**\n",
    "\n",
    "### Additional Guidance\n",
    "\n",
    "If at any point you are asking yourself \"are we supposed to...\", then *write your assumptions clearly in your exam and proceed according to those assumptions.*\n",
    "\n",
    "**You can submit many times before 4:30pm. I suggest you submit when you have finished, then again after you have checked it over.**\n",
    "\n",
    "Good luck!"
   ]
  },
  {
   "cell_type": "code",
   "execution_count": 1,
   "metadata": {},
   "outputs": [],
   "source": [
    "## Preliminaries\n",
    "# Sets up the environment by importing packages\n",
    "\n",
    "### YOU MAY ADD ADDITIONAL IMPORTS IF YOU WISH\n",
    "\n",
    "import matplotlib\n",
    "import matplotlib.pyplot as plt \n",
    "%matplotlib inline\n",
    "import scipy.stats as ss\n",
    "import pandas as pd \n",
    "import numpy as np\n",
    "import seaborn as sns\n",
    "from statsmodels.formula.api import ols\n",
    "from sklearn.model_selection import train_test_split, cross_val_score\n",
    "from sklearn.linear_model import LinearRegression\n",
    "from sklearn.pipeline import Pipeline\n",
    "from sklearn.preprocessing import StandardScaler, PolynomialFeatures\n",
    "from sklearn.metrics import mean_squared_error, mean_absolute_error"
   ]
  },
  {
   "cell_type": "markdown",
   "metadata": {},
   "source": [
    "---\n",
    "## Data set \n",
    "The Child Health and Development Studies investigate a range of topics. One study considered all pregnancies between 1960 and 1967 among women in the Kaiser Foundation Health Plan in the San Francisco East Bay area.\n",
    "\n",
    "The data frame contains the following data, where each row represents a baby:\n",
    "\n",
    "- bwt: birth weight (ounces)\n",
    "- gestation: length of pregnancy (days)\n",
    "- parity: 0 if mom's first baby, 1 if not mom's first baby\n",
    "- age: mom's age (years)\n",
    "- height: mom's height (inches)\n",
    "- weight: mom's weight (pounds)\n",
    "- smoke: 0 if mom is nonsmoker, 1 if mom is smoker\n",
    "\n"
   ]
  },
  {
   "cell_type": "code",
   "execution_count": 74,
   "metadata": {},
   "outputs": [
    {
     "data": {
      "text/html": [
       "<div>\n",
       "<style scoped>\n",
       "    .dataframe tbody tr th:only-of-type {\n",
       "        vertical-align: middle;\n",
       "    }\n",
       "\n",
       "    .dataframe tbody tr th {\n",
       "        vertical-align: top;\n",
       "    }\n",
       "\n",
       "    .dataframe thead th {\n",
       "        text-align: right;\n",
       "    }\n",
       "</style>\n",
       "<table border=\"1\" class=\"dataframe\">\n",
       "  <thead>\n",
       "    <tr style=\"text-align: right;\">\n",
       "      <th></th>\n",
       "      <th>bwt</th>\n",
       "      <th>gestation</th>\n",
       "      <th>parity</th>\n",
       "      <th>age</th>\n",
       "      <th>height</th>\n",
       "      <th>weight</th>\n",
       "      <th>smoke</th>\n",
       "    </tr>\n",
       "  </thead>\n",
       "  <tbody>\n",
       "    <tr>\n",
       "      <td>0</td>\n",
       "      <td>120</td>\n",
       "      <td>284.0</td>\n",
       "      <td>0</td>\n",
       "      <td>27.0</td>\n",
       "      <td>62.0</td>\n",
       "      <td>100.0</td>\n",
       "      <td>0.0</td>\n",
       "    </tr>\n",
       "    <tr>\n",
       "      <td>1</td>\n",
       "      <td>113</td>\n",
       "      <td>282.0</td>\n",
       "      <td>0</td>\n",
       "      <td>33.0</td>\n",
       "      <td>64.0</td>\n",
       "      <td>135.0</td>\n",
       "      <td>0.0</td>\n",
       "    </tr>\n",
       "    <tr>\n",
       "      <td>2</td>\n",
       "      <td>128</td>\n",
       "      <td>279.0</td>\n",
       "      <td>0</td>\n",
       "      <td>28.0</td>\n",
       "      <td>64.0</td>\n",
       "      <td>115.0</td>\n",
       "      <td>1.0</td>\n",
       "    </tr>\n",
       "    <tr>\n",
       "      <td>4</td>\n",
       "      <td>108</td>\n",
       "      <td>282.0</td>\n",
       "      <td>0</td>\n",
       "      <td>23.0</td>\n",
       "      <td>67.0</td>\n",
       "      <td>125.0</td>\n",
       "      <td>1.0</td>\n",
       "    </tr>\n",
       "    <tr>\n",
       "      <td>5</td>\n",
       "      <td>136</td>\n",
       "      <td>286.0</td>\n",
       "      <td>0</td>\n",
       "      <td>25.0</td>\n",
       "      <td>62.0</td>\n",
       "      <td>93.0</td>\n",
       "      <td>0.0</td>\n",
       "    </tr>\n",
       "  </tbody>\n",
       "</table>\n",
       "</div>"
      ],
      "text/plain": [
       "   bwt  gestation  parity   age  height  weight  smoke\n",
       "0  120      284.0       0  27.0    62.0   100.0    0.0\n",
       "1  113      282.0       0  33.0    64.0   135.0    0.0\n",
       "2  128      279.0       0  28.0    64.0   115.0    1.0\n",
       "4  108      282.0       0  23.0    67.0   125.0    1.0\n",
       "5  136      286.0       0  25.0    62.0    93.0    0.0"
      ]
     },
     "execution_count": 74,
     "metadata": {},
     "output_type": "execute_result"
    }
   ],
   "source": [
    "# Load data, remove \"case\" column which is just an ID, \n",
    "# also drop rows with any missing data (\"NA\").\n",
    "df = pd.read_csv('babies.csv').drop('case',axis='columns').dropna()\n",
    "df.head()"
   ]
  },
  {
   "cell_type": "markdown",
   "metadata": {},
   "source": [
    "---\n",
    "---\n",
    "## Task 1: Prediction (XX / 90pt)\n",
    "\n",
    "This task will focus on building predictive models for birth weight based on the available data."
   ]
  },
  {
   "cell_type": "markdown",
   "metadata": {},
   "source": [
    "---\n",
    "### Question 1.1 - Visualizing the Outcome (X / 5pt)\n",
    "\n",
    "Produce a plot that visualizes the marginal distribution of birth weight."
   ]
  },
  {
   "cell_type": "code",
   "execution_count": 75,
   "metadata": {},
   "outputs": [
    {
     "data": {
      "text/plain": [
       "<matplotlib.axes._subplots.AxesSubplot at 0x7fc6f2a1a6a0>"
      ]
     },
     "execution_count": 75,
     "metadata": {},
     "output_type": "execute_result"
    },
    {
     "data": {
      "image/png": "[encoded data removed]",
      "text/plain": [
       "<Figure size 432x288 with 1 Axes>"
      ]
     },
     "metadata": {
      "needs_background": "light"
     },
     "output_type": "display_data"
    }
   ],
   "source": [
    "# Q1.1 - Code to produce plot\n",
    "\n",
    "sns.distplot(df.bwt)\n"
   ]
  },
  {
   "cell_type": "markdown",
   "metadata": {},
   "source": [
    "---\n",
    "### Question 1.2 - Loss Functions (X / 10pt)\n",
    "\n",
    "Define two loss functions, one that measures the absolute difference between observations and predictions, and one that gives \"0\" if the absolute difference is less than or equal to a threshold `thresh`, and \"1\" otherwise. (Essentially, the mean of this loss counts the proportion of predictions that within `thresh` distance of the observations.)\n",
    "\n",
    "*Return the mean and the standard deviation of the losses.* \n",
    "\n",
    "Use the skeleton code below as a guide. For example, if we had\n",
    "\n",
    "`obs = np.array([1, 2, 3, 4, 5])`  \n",
    "`pred = np.array([5, 4, 3, 2, 1])`\n",
    "\n",
    "Then `threshold_loss(obs, pred, 2)` should give `(0.6, 0.54772)`\n",
    "\n",
    "Recall that to get the sample standard deviation of a Series or array `x`, we can use\n",
    "\n",
    "`np.std(x, ddof=1)`\n"
   ]
  },
  {
   "cell_type": "code",
   "execution_count": 76,
   "metadata": {},
   "outputs": [],
   "source": [
    "# Q1.2 - definitions of loss functions\n",
    "\n",
    "def abs_diff_loss(obs, pred):\n",
    "    # Replace 'pass' with your function definition\n",
    "    x = abs(pred - obs)\n",
    "    mean_loss = x.mean()\n",
    "    std_loss = np.std(x, ddof = 1)\n",
    "    # In your code, assign the mean of the losses to mean_loss, \n",
    "    # and assign the standard deviation of the losses to std_loss\n",
    "    return (mean_loss, std_loss)\n",
    "    \n",
    "    \n",
    "def threshold_loss(obs, pred, thresh):\n",
    "    # Replace 'pass' with your function definition\n",
    "    x = abs(pred-obs)\n",
    "    y=[]\n",
    "    for i in x :\n",
    "        if x[i] < thresh or x[i] == thresh :\n",
    "            y.append(0)\n",
    "        else :\n",
    "            y.append(1)\n",
    "        mean_loss = np.mean(y)\n",
    "        std_loss = np.std(y, ddof = 1)\n",
    "    # In your code, assign the mean of the losses to mean_loss, \n",
    "    # and assign the standard deviation of the losses to std_loss\n",
    "    return (mean_loss, std_loss)\n",
    "\n"
   ]
  },
  {
   "cell_type": "markdown",
   "metadata": {},
   "source": [
    "---\n",
    "### Question 1.3 (X / 10pt)\n",
    "\n",
    "Suppose you are using the absolute loss to measure performance of a model for predicting birth weight using the data we have provided.. If you wanted to set a test set aside for evaluation, how much data should you allocate for testing if you want to evaluate the performance of our predictor to within +/- 4 units of loss with 95% confidence? Provide code that computes the amount of data, and explain in a short paragraph the assumptions you used to compute the sample size. (There are several different approaches that are all acceptable.)"
   ]
  },
  {
   "cell_type": "code",
   "execution_count": 118,
   "metadata": {},
   "outputs": [
    {
     "ename": "TypeError",
     "evalue": "object of type 'Summary' has no len()",
     "output_type": "error",
     "traceback": [
      "\u001b[0;31m---------------------------------------------------------------------------\u001b[0m",
      "\u001b[0;31mTypeError\u001b[0m                                 Traceback (most recent call last)",
      "\u001b[0;32m<ipython-input-118-c21624263dd8>\u001b[0m in \u001b[0;36m<module>\u001b[0;34m\u001b[0m\n\u001b[1;32m     10\u001b[0m \u001b[0mbirth\u001b[0m \u001b[0;34m=\u001b[0m \u001b[0mdf\u001b[0m\u001b[0;34m.\u001b[0m\u001b[0mbwt\u001b[0m\u001b[0;34m\u001b[0m\u001b[0;34m\u001b[0m\u001b[0m\n\u001b[1;32m     11\u001b[0m \u001b[0mcritval\u001b[0m \u001b[0;34m=\u001b[0m \u001b[0mt\u001b[0m\u001b[0;34m.\u001b[0m\u001b[0mt\u001b[0m\u001b[0;34m.\u001b[0m\u001b[0mppf\u001b[0m\u001b[0;34m(\u001b[0m\u001b[0;36m0.975\u001b[0m\u001b[0;34m,\u001b[0m \u001b[0mdf\u001b[0m\u001b[0;34m)\u001b[0m\u001b[0;34m\u001b[0m\u001b[0;34m\u001b[0m\u001b[0m\n\u001b[0;32m---> 12\u001b[0;31m \u001b[0mstderr\u001b[0m \u001b[0;34m=\u001b[0m \u001b[0mnp\u001b[0m\u001b[0;34m.\u001b[0m\u001b[0mstd\u001b[0m\u001b[0;34m(\u001b[0m\u001b[0ma\u001b[0m\u001b[0;34m)\u001b[0m\u001b[0;34m/\u001b[0m\u001b[0mnp\u001b[0m\u001b[0;34m.\u001b[0m\u001b[0msqrt\u001b[0m\u001b[0;34m(\u001b[0m\u001b[0mlen\u001b[0m\u001b[0;34m(\u001b[0m\u001b[0mdata\u001b[0m\u001b[0;34m)\u001b[0m\u001b[0;34m)\u001b[0m\u001b[0;34m\u001b[0m\u001b[0;34m\u001b[0m\u001b[0m\n\u001b[0m\u001b[1;32m     13\u001b[0m \u001b[0mbounds\u001b[0m \u001b[0;34m=\u001b[0m \u001b[0;34m[\u001b[0m\u001b[0mnp\u001b[0m\u001b[0;34m.\u001b[0m\u001b[0mmean\u001b[0m\u001b[0;34m(\u001b[0m\u001b[0ma\u001b[0m\u001b[0;34m)\u001b[0m \u001b[0;34m-\u001b[0m \u001b[0mcritval\u001b[0m\u001b[0;34m*\u001b[0m\u001b[0mstderr\u001b[0m\u001b[0;34m,\u001b[0m \u001b[0mnp\u001b[0m\u001b[0;34m.\u001b[0m\u001b[0mmean\u001b[0m\u001b[0;34m(\u001b[0m\u001b[0ma\u001b[0m\u001b[0;34m)\u001b[0m \u001b[0;34m+\u001b[0m \u001b[0mcritval\u001b[0m\u001b[0;34m*\u001b[0m\u001b[0mstderr\u001b[0m\u001b[0;34m]\u001b[0m\u001b[0;34m\u001b[0m\u001b[0;34m\u001b[0m\u001b[0m\n\u001b[1;32m     14\u001b[0m \u001b[0mestimated_mean\u001b[0m \u001b[0;34m=\u001b[0m \u001b[0mnp\u001b[0m\u001b[0;34m.\u001b[0m\u001b[0mmean\u001b[0m\u001b[0;34m(\u001b[0m\u001b[0ma\u001b[0m\u001b[0;34m)\u001b[0m\u001b[0;34m\u001b[0m\u001b[0;34m\u001b[0m\u001b[0m\n",
      "\u001b[0;31mTypeError\u001b[0m: object of type 'Summary' has no len()"
     ]
    }
   ],
   "source": [
    "import numpy as np\n",
    "import scipy.stats as t\n",
    "import matplotlib.pyplot as plt\n",
    "import statsmodels.formula.api as sm\n",
    "import pandas as pd\n",
    "\n",
    "\n",
    "# Q1.3 - Computation to compute sample size for absolute difference\n",
    "a = df.size\n",
    "birth = df.bwt\n",
    "critval = t.t.ppf(0.975, df)\n",
    "stderr = np.std(a)/np.sqrt(len(data))\n",
    "bounds = [np.mean(a) - critval*stderr, np.mean(a) + critval*stderr]\n",
    "estimated_mean = np.mean(a)\n",
    "\n",
    "print(estimated_mean)\n",
    "print(bounds)\n",
    "\n",
    "# Replace None with your computed test set size\n",
    "testsetsize_absolute = None\n",
    "print(f\"Test set size for absolute loss: {testsetsize_absolute}\")\n"
   ]
  },
  {
   "cell_type": "markdown",
   "metadata": {},
   "source": [
    "#### Q1.3 - Explanation\n",
    "\n",
    "Although i could not get out the result, I was trying the get the confidence interval in this question adn try to get the sample size which is within +/- 4 units of the loss of the confidence interval.I was going to get the lower bounds and the upper bounds of the confidence interval and was going to use the code to get the +/- 4 units and made it to the sample size."
   ]
  },
  {
   "cell_type": "markdown",
   "metadata": {},
   "source": [
    "---\n",
    "### Question 1.4 (X / 10pt)\n",
    "\n",
    "Suppose you are using the threshold loss with a cutoff of 4 to measure performance of a model for predicting birth weight using the data we have provided. If you wanted to set a test set aside for evaluation, how much data should you allocate for testing if you want to evaluate the performance of our predictor to within +/- 0.05 of the actual generalization performance with 95% confidence? Provide code that computes the amount of data, and explain in a short paragraph the assumptions you used to compute the sample size. (There are several different approaches that are all acceptable.)"
   ]
  },
  {
   "cell_type": "code",
   "execution_count": 113,
   "metadata": {},
   "outputs": [
    {
     "name": "stderr",
     "output_type": "stream",
     "text": [
      "/opt/tljh/user/lib/python3.6/site-packages/numpy/core/_methods.py:217: RuntimeWarning: Degrees of freedom <= 0 for slice\n",
      "  keepdims=keepdims)\n",
      "/opt/tljh/user/lib/python3.6/site-packages/numpy/core/_methods.py:209: RuntimeWarning: invalid value encountered in double_scalars\n",
      "  ret = ret.dtype.type(ret / rcount)\n"
     ]
    },
    {
     "ename": "NameError",
     "evalue": "name 'thershold_loss' is not defined",
     "output_type": "error",
     "traceback": [
      "\u001b[0;31m---------------------------------------------------------------------------\u001b[0m",
      "\u001b[0;31mNameError\u001b[0m                                 Traceback (most recent call last)",
      "\u001b[0;32m<ipython-input-113-4a5054363d9c>\u001b[0m in \u001b[0;36m<module>\u001b[0;34m\u001b[0m\n\u001b[1;32m      2\u001b[0m \u001b[0mthreshold_loss\u001b[0m\u001b[0;34m(\u001b[0m\u001b[0mobs\u001b[0m\u001b[0;34m,\u001b[0m \u001b[0mpred\u001b[0m\u001b[0;34m,\u001b[0m \u001b[0;36m4\u001b[0m\u001b[0;34m)\u001b[0m\u001b[0;34m\u001b[0m\u001b[0;34m\u001b[0m\u001b[0m\n\u001b[1;32m      3\u001b[0m \u001b[0;34m\u001b[0m\u001b[0m\n\u001b[0;32m----> 4\u001b[0;31m \u001b[0mgeneralization_error\u001b[0m \u001b[0;34m=\u001b[0m \u001b[0mthershold_loss\u001b[0m\u001b[0;34m(\u001b[0m\u001b[0;34m)\u001b[0m\u001b[0;34m\u001b[0m\u001b[0;34m\u001b[0m\u001b[0m\n\u001b[0m\u001b[1;32m      5\u001b[0m \u001b[0;34m\u001b[0m\u001b[0m\n\u001b[1;32m      6\u001b[0m \u001b[0mtest_ci\u001b[0m \u001b[0;34m=\u001b[0m \u001b[0mgeneralization_error\u001b[0m \u001b[0;34m+\u001b[0m \u001b[0;36m1.96\u001b[0m \u001b[0;34m*\u001b[0m \u001b[0mnp\u001b[0m\u001b[0;34m.\u001b[0m\u001b[0mstd\u001b[0m\u001b[0;34m(\u001b[0m\u001b[0mtest_errors\u001b[0m\u001b[0;34m)\u001b[0m \u001b[0;34m/\u001b[0m \u001b[0mnp\u001b[0m\u001b[0;34m.\u001b[0m\u001b[0msqrt\u001b[0m\u001b[0;34m(\u001b[0m\u001b[0mlen\u001b[0m\u001b[0;34m(\u001b[0m\u001b[0mtest_errors\u001b[0m\u001b[0;34m)\u001b[0m\u001b[0;34m)\u001b[0m \u001b[0;34m*\u001b[0m \u001b[0mnp\u001b[0m\u001b[0;34m.\u001b[0m\u001b[0marray\u001b[0m\u001b[0;34m(\u001b[0m\u001b[0;34m[\u001b[0m\u001b[0;34m-\u001b[0m\u001b[0;36m1\u001b[0m\u001b[0;34m,\u001b[0m \u001b[0;36m1\u001b[0m\u001b[0;34m]\u001b[0m\u001b[0;34m)\u001b[0m\u001b[0;34m\u001b[0m\u001b[0;34m\u001b[0m\u001b[0m\n",
      "\u001b[0;31mNameError\u001b[0m: name 'thershold_loss' is not defined"
     ]
    }
   ],
   "source": [
    "# Q1.4 - Computation to compute sample size for proportion below threshold\n",
    "threshold_loss(obs, pred, 4)\n",
    "\n",
    "generalization_error = thershold_loss()\n",
    "\n",
    "test_ci = generalization_error + 1.96 * np.std(test_errors) / np.sqrt(len(test_errors)) * np.array([-1, 1])\n",
    "\n",
    "\n",
    "# Replace None with your computed test set size\n",
    "testsetsize_threshold = None\n",
    "print(f\"Test set size for threshold loss with cutoff of 4: {testsetsize_threshold}\")"
   ]
  },
  {
   "cell_type": "markdown",
   "metadata": {},
   "source": [
    "#### Q1.4 - Explanation\n",
    "In this question, I was going to use the 95% confidence interval within +/- 0.05 predictors and my assumptions for the compute the sample size is that there will be a lot of difference in the cutoff since the birthweight can effect a lot of other variables. I was going to use the confidence interval code and compute the sample size.\n"
   ]
  },
  {
   "cell_type": "markdown",
   "metadata": {},
   "source": [
    "---\n",
    "### Question 1.5 - Test Split (X / 5pt)\n",
    "\n",
    "Set aside some amount of data for testing, and retain the rest for training. Choose whichever amount you want based on your previous answers, and briefly explain which one you used and why you used it.\n"
   ]
  },
  {
   "cell_type": "code",
   "execution_count": 115,
   "metadata": {},
   "outputs": [
    {
     "name": "stdout",
     "output_type": "stream",
     "text": [
      "(880, 6) (294, 6)\n"
     ]
    }
   ],
   "source": [
    "# Q1.5 - Code to separate into training and testing data\n",
    "losses = abs(df.bwt - df.bwt.median())\n",
    "\n",
    "y = df.bwt\n",
    "X = df.drop('bwt', axis = 'columns')\n",
    "\n",
    "# Random state assures that folds are consistent across models\n",
    "Xtrain, Xtest, ytrain, ytest = train_test_split(X,\n",
    "                                                y, \n",
    "                                                test_size = 0.25, \n",
    "                                                random_state = 0)\n",
    "print(Xtrain.shape,Xtest.shape)"
   ]
  },
  {
   "cell_type": "markdown",
   "metadata": {},
   "source": [
    "#### Q1.5 - Explanation\n",
    "\n",
    "I used absolute difference value of the age and median for the lossess and the test size of 0.25.\n"
   ]
  },
  {
   "cell_type": "markdown",
   "metadata": {},
   "source": [
    "---\n",
    "### Question 1.6 - Simple Linear Model (X / 5pt)\n",
    "\n",
    "Using Ordinary Least Squares, build a model to predict birth weight as a linear function of the other variables in the data.\n"
   ]
  },
  {
   "cell_type": "code",
   "execution_count": 116,
   "metadata": {},
   "outputs": [],
   "source": [
    "# Q1.6 - Code to produce simple OLS model\n",
    "\n",
    "simplemodel =  ols('bwt ~ gestation + parity + age  + height + weight + smoke',data = df).fit().summary()\n"
   ]
  },
  {
   "cell_type": "markdown",
   "metadata": {},
   "source": [
    "---\n",
    "### Question 1.7 - More Complex Model (X / 10pt)\n",
    "\n",
    "Again using Ordinary Least Squares, develop second a model that has lower training error than the simple model. Explain how you know that this model has lower training error."
   ]
  },
  {
   "cell_type": "code",
   "execution_count": 117,
   "metadata": {},
   "outputs": [],
   "source": [
    "# Q1.7 - Code to produce more complex OLS model\n",
    "complexmodel = ols('bwt ~ gestation + np.power(gestation,2) + parity + age + height + weight + smoke', data = df).fit().summary()\n",
    "\n"
   ]
  },
  {
   "cell_type": "markdown",
   "metadata": {},
   "source": [
    "#### Q1.7 - Explanation\n",
    "\n",
    "This model has lower training error because as I add terms to a mdoel or make it to the quadratic terms ten the traning error will go down."
   ]
  },
  {
   "cell_type": "markdown",
   "metadata": {},
   "source": [
    "## Question 1.8 - Model Selection (X / 20pt)\n",
    "\n",
    "Use cross-validation to compare the two model spaces to select the one you think will result in the smallest generalization error for one of the loss functions you defined above. (Either one.) Explain why you chose the particular model space. \n"
   ]
  },
  {
   "cell_type": "code",
   "execution_count": 97,
   "metadata": {},
   "outputs": [
    {
     "name": "stdout",
     "output_type": "stream",
     "text": [
      "4.3611322122841445\n",
      "12.542039041489652\n"
     ]
    }
   ],
   "source": [
    "# Q1.8 - Code to do cross-validation to compare models\n",
    "# Edit the code below, replacing \"None\" with your computations.\n",
    "model_pipeline = Pipeline([\n",
    "    ('linear_regression', LinearRegression())\n",
    "])\n",
    "\n",
    "cv_score = cross_val_score(model_pipeline, Xtrain, ytrain, cv=5, scoring='neg_mean_absolute_error')\n",
    "\n",
    "cv_score_mean = -cv_score.mean()\n",
    "\n",
    "cverror_simple = cv_score_mean\n",
    "\n",
    "\n",
    "\n",
    "\n",
    "y_quad = df.bwt\n",
    "X_quad = df.assign(age2 = lambda x: x.age**2).drop('bwt', axis = 'columns')\n",
    "\n",
    "X_quad_train, X_quad_test, y_quad_train, y_quad_test = train_test_split(X_quad, y_quad, \n",
    "                                                                        test_size = 0.25, \n",
    "                                                                        random_state = 0)\n",
    "\n",
    "quadratic_model_pipeline = Pipeline([\n",
    "    ('linear_regression', LinearRegression())\n",
    "])\n",
    "\n",
    "quad_cv_score = cross_val_score(quadratic_model_pipeline, \n",
    "                                X_quad_train, \n",
    "                                y_quad_train, \n",
    "                                cv = 5, \n",
    "                                scoring = 'neg_mean_absolute_error')\n",
    "\n",
    "quad_cv_score_mean = -quad_cv_score.mean()\n",
    "\n",
    "cverror_complex = quad_cv_score_mean\n",
    "\n",
    "print(cverror_simple)\n",
    "print(cverror_complex)"
   ]
  },
  {
   "cell_type": "markdown",
   "metadata": {},
   "source": [
    "#### Q1.8 - Explanation\n",
    "\n",
    "I think that the simple error term will be not overfitting neither underfitting because the predictorw will not be very close to the number of observations and this will make us to get a trining error and also the gernerlize it well. \n",
    "\n"
   ]
  },
  {
   "cell_type": "markdown",
   "metadata": {},
   "source": [
    "---\n",
    "### Question 1.9 - Evaluation, Absolute Value, Normal approximation confidence interval (X / 5pt)\n",
    "\n",
    "Provide a point estimate for the generalization error of your chosen model using the absolute difference loss. Also provide a 95% confidence interval for the true generalization error under this loss. Construct the interval using a normal approximation."
   ]
  },
  {
   "cell_type": "code",
   "execution_count": 101,
   "metadata": {},
   "outputs": [],
   "source": [
    "# Q1.9 Evaluation - Absolute Value Loss - Use normal approximation\n",
    "# Edit the code below, replacing \"None\" with your computations.\n",
    "model_pipeline_intxn = Pipeline([\n",
    "    ('poly', PolynomialFeatures(include_bias = False)),\n",
    "    ('linear_regression', LinearRegression())\n",
    "])\n",
    "\n",
    "\n",
    "model_pipeline_intxn.fit(Xtrain, ytrain)\n",
    "ypred = model_pipeline_intxn.predict(Xtest)\n",
    "\n",
    "est_abs_error = model_pipeline_intxn.predict(Xtest)\n",
    "\n",
    "test_errors = ytest - ypred\n",
    "\n",
    "generalization_error = mean_absolute_error(ytest, ypred)\n",
    "\n",
    "test_ci = generalization_error + 1.96 * np.std(test_errors) / np.sqrt(len(test_errors)) * np.array([-1, 1])\n",
    "\n",
    "ci_lower_abs_error, ci_upper_abs_error = test_ci[0], test_ci[1]"
   ]
  },
  {
   "cell_type": "markdown",
   "metadata": {},
   "source": [
    "# ---\n",
    "### Question 1.10 - Evaluation, Threshold, Bootstrap approximation confidence interval (X / 10pt)\n",
    "\n",
    "Provide a point estimate for the generalization error of your model using the threshold loss with a threshold of 4. Also provide a 95% confidence interval for the true generalization error under this loss. Construct the interval using the bootstrap."
   ]
  },
  {
   "cell_type": "code",
   "execution_count": 88,
   "metadata": {},
   "outputs": [],
   "source": [
    "# Q1.10 Evaluation - Threshold Loss - Use bootstrap\n",
    "# Edit the code below, replacing \"None\" with your computations.\n",
    "\n",
    "def bootstrap(data, model, numboot):\n",
    "    ### BEGIN SOLUTION\n",
    "    bootstrapped_rsquared = np.zeros(numboot)\n",
    "    for i in range(numboot):\n",
    "        df_bootstrapped = data.sample(data.shape[0], replace = True)\n",
    "        \n",
    "        y = df_bootstrapped.wt.values\n",
    "        yhat = model.predict(df_bootstrapped).values\n",
    "        bootstrapped_rsquared[i] = 1 - (np.sum(np.power(y - yhat,2)) / np.sum(np.power(y - y.mean(),2)))\n",
    "    ### END SOLUTION\n",
    "\n",
    "    return bootstrapped_rsquared\n",
    "\n",
    "\n",
    "est_thresh_error =  bootstrap(df, threshold(obs,pred,4) , 10_000)\n",
    "\n",
    "\n",
    "\n",
    "ci_lower_thresh_error, ci_upper_thresh_error = np.quantile(threshold(obs,pred,4), [0.025, 0.975])\n"
   ]
  },
  {
   "cell_type": "markdown",
   "metadata": {},
   "source": [
    "---\n",
    "---\n",
    "## Task 2 - Inference (XX pt / 40)"
   ]
  },
  {
   "cell_type": "markdown",
   "metadata": {},
   "source": [
    "---\n",
    "### Question 2.1 - Association between Smoking and Birth Weight (X / 10pt)\n",
    "\n",
    "Conduct a statistical analysis that shows whether the data provide substantial evidence that smoking is associated with a difference in average birth weight if we ignore all other variables. First write the necessary code, then explain in a few sentences why the results do or do not indicate an association."
   ]
  },
  {
   "cell_type": "code",
   "execution_count": 63,
   "metadata": {},
   "outputs": [
    {
     "data": {
      "text/html": [
       "<table class=\"simpletable\">\n",
       "<caption>OLS Regression Results</caption>\n",
       "<tr>\n",
       "  <th>Dep. Variable:</th>          <td>smoke</td>      <th>  R-squared:         </th> <td>   0.062</td>\n",
       "</tr>\n",
       "<tr>\n",
       "  <th>Model:</th>                   <td>OLS</td>       <th>  Adj. R-squared:    </th> <td>   0.060</td>\n",
       "</tr>\n",
       "<tr>\n",
       "  <th>Method:</th>             <td>Least Squares</td>  <th>  F-statistic:       </th> <td>   38.40</td>\n",
       "</tr>\n",
       "<tr>\n",
       "  <th>Date:</th>             <td>Thu, 17 Oct 2019</td> <th>  Prob (F-statistic):</th> <td>7.05e-17</td>\n",
       "</tr>\n",
       "<tr>\n",
       "  <th>Time:</th>                 <td>15:37:38</td>     <th>  Log-Likelihood:    </th> <td> -786.20</td>\n",
       "</tr>\n",
       "<tr>\n",
       "  <th>No. Observations:</th>      <td>  1174</td>      <th>  AIC:               </th> <td>   1578.</td>\n",
       "</tr>\n",
       "<tr>\n",
       "  <th>Df Residuals:</th>          <td>  1171</td>      <th>  BIC:               </th> <td>   1594.</td>\n",
       "</tr>\n",
       "<tr>\n",
       "  <th>Df Model:</th>              <td>     2</td>      <th>                     </th>     <td> </td>   \n",
       "</tr>\n",
       "<tr>\n",
       "  <th>Covariance Type:</th>      <td>nonrobust</td>    <th>                     </th>     <td> </td>   \n",
       "</tr>\n",
       "</table>\n",
       "<table class=\"simpletable\">\n",
       "<tr>\n",
       "          <td></td>            <th>coef</th>     <th>std err</th>      <th>t</th>      <th>P>|t|</th>  <th>[0.025</th>    <th>0.975]</th>  \n",
       "</tr>\n",
       "<tr>\n",
       "  <th>Intercept</th>        <td>    1.4975</td> <td>    0.373</td> <td>    4.020</td> <td> 0.000</td> <td>    0.767</td> <td>    2.228</td>\n",
       "</tr>\n",
       "<tr>\n",
       "  <th>bwt</th>              <td>   -0.0121</td> <td>    0.006</td> <td>   -1.926</td> <td> 0.054</td> <td>   -0.025</td> <td>    0.000</td>\n",
       "</tr>\n",
       "<tr>\n",
       "  <th>np.power(bwt, 2)</th> <td> 2.355e-05</td> <td> 2.65e-05</td> <td>    0.889</td> <td> 0.374</td> <td>-2.84e-05</td> <td> 7.55e-05</td>\n",
       "</tr>\n",
       "</table>\n",
       "<table class=\"simpletable\">\n",
       "<tr>\n",
       "  <th>Omnibus:</th>       <td>7024.212</td> <th>  Durbin-Watson:     </th> <td>   2.061</td>\n",
       "</tr>\n",
       "<tr>\n",
       "  <th>Prob(Omnibus):</th>  <td> 0.000</td>  <th>  Jarque-Bera (JB):  </th> <td> 152.885</td>\n",
       "</tr>\n",
       "<tr>\n",
       "  <th>Skew:</th>           <td> 0.416</td>  <th>  Prob(JB):          </th> <td>6.33e-34</td>\n",
       "</tr>\n",
       "<tr>\n",
       "  <th>Kurtosis:</th>       <td> 1.440</td>  <th>  Cond. No.          </th> <td>4.11e+05</td>\n",
       "</tr>\n",
       "</table><br/><br/>Warnings:<br/>[1] Standard Errors assume that the covariance matrix of the errors is correctly specified.<br/>[2] The condition number is large, 4.11e+05. This might indicate that there are<br/>strong multicollinearity or other numerical problems."
      ],
      "text/plain": [
       "<class 'statsmodels.iolib.summary.Summary'>\n",
       "\"\"\"\n",
       "                            OLS Regression Results                            \n",
       "==============================================================================\n",
       "Dep. Variable:                  smoke   R-squared:                       0.062\n",
       "Model:                            OLS   Adj. R-squared:                  0.060\n",
       "Method:                 Least Squares   F-statistic:                     38.40\n",
       "Date:                Thu, 17 Oct 2019   Prob (F-statistic):           7.05e-17\n",
       "Time:                        15:37:38   Log-Likelihood:                -786.20\n",
       "No. Observations:                1174   AIC:                             1578.\n",
       "Df Residuals:                    1171   BIC:                             1594.\n",
       "Df Model:                           2                                         \n",
       "Covariance Type:            nonrobust                                         \n",
       "====================================================================================\n",
       "                       coef    std err          t      P>|t|      [0.025      0.975]\n",
       "------------------------------------------------------------------------------------\n",
       "Intercept            1.4975      0.373      4.020      0.000       0.767       2.228\n",
       "bwt                 -0.0121      0.006     -1.926      0.054      -0.025       0.000\n",
       "np.power(bwt, 2)  2.355e-05   2.65e-05      0.889      0.374   -2.84e-05    7.55e-05\n",
       "==============================================================================\n",
       "Omnibus:                     7024.212   Durbin-Watson:                   2.061\n",
       "Prob(Omnibus):                  0.000   Jarque-Bera (JB):              152.885\n",
       "Skew:                           0.416   Prob(JB):                     6.33e-34\n",
       "Kurtosis:                       1.440   Cond. No.                     4.11e+05\n",
       "==============================================================================\n",
       "\n",
       "Warnings:\n",
       "[1] Standard Errors assume that the covariance matrix of the errors is correctly specified.\n",
       "[2] The condition number is large, 4.11e+05. This might indicate that there are\n",
       "strong multicollinearity or other numerical problems.\n",
       "\"\"\""
      ]
     },
     "execution_count": 63,
     "metadata": {},
     "output_type": "execute_result"
    }
   ],
   "source": [
    "# Q2.1 - Analysis\n",
    "model2 = ols('smoke ~ bwt + np.power(bwt,2)', data = df).fit()\n",
    "\n",
    "model2.summary()"
   ]
  },
  {
   "cell_type": "markdown",
   "metadata": {},
   "source": [
    "#### Q2.1 - Explanation\n",
    "From this question, a statistical model for these competing hypotheses was there is a substantial evidence that smoking is associated with a difference in a birthweight so I used the quadratic effect on a birthweight and the coefficent for bst**2 is positive and the p>0.05 so this is showing that this is not rejecting the hypotheses so it does not matter.\n"
   ]
  },
  {
   "cell_type": "markdown",
   "metadata": {},
   "source": [
    "---\n",
    "### T2 Question 2.2 - Causality between Smoking and Birth Weight (X / 10pt)\n",
    "\n",
    "Does this analysis prove that smoking causes reduced birth weight? Explain in a few sentences why or why not."
   ]
  },
  {
   "cell_type": "markdown",
   "metadata": {},
   "source": [
    "#### Q2.2 - Explanation\n",
    "\n",
    "No, this does not prove that somking causes reduced brith weight because it didn't reject the null hyphothesis which was smoking is asscoiated with a difference in a birthweight. Also the p-vale was greater than 0.05 so this shows that smoking did ntot cause the birthweight. \n"
   ]
  },
  {
   "cell_type": "markdown",
   "metadata": {},
   "source": [
    "---\n",
    "### T2 Question 2.3 - Association between Smoking and Birth Weight (X / 10pt)\n",
    "\n",
    "Conduct a statistical analysis that shows whether the data provide substantial evidence that smoking is associated with a change birth weight if we account for the other measured variables using a linear model. First write the necessary code, then explain in a few sentences why the results do or do not indicate an association."
   ]
  },
  {
   "cell_type": "code",
   "execution_count": 67,
   "metadata": {},
   "outputs": [
    {
     "data": {
      "text/html": [
       "<table class=\"simpletable\">\n",
       "<caption>OLS Regression Results</caption>\n",
       "<tr>\n",
       "  <th>Dep. Variable:</th>          <td>smoke</td>      <th>  R-squared:         </th> <td>   0.066</td>\n",
       "</tr>\n",
       "<tr>\n",
       "  <th>Model:</th>                   <td>OLS</td>       <th>  Adj. R-squared:    </th> <td>   0.063</td>\n",
       "</tr>\n",
       "<tr>\n",
       "  <th>Method:</th>             <td>Least Squares</td>  <th>  F-statistic:       </th> <td>   27.39</td>\n",
       "</tr>\n",
       "<tr>\n",
       "  <th>Date:</th>             <td>Thu, 17 Oct 2019</td> <th>  Prob (F-statistic):</th> <td>4.02e-17</td>\n",
       "</tr>\n",
       "<tr>\n",
       "  <th>Time:</th>                 <td>15:44:59</td>     <th>  Log-Likelihood:    </th> <td> -783.64</td>\n",
       "</tr>\n",
       "<tr>\n",
       "  <th>No. Observations:</th>      <td>  1174</td>      <th>  AIC:               </th> <td>   1575.</td>\n",
       "</tr>\n",
       "<tr>\n",
       "  <th>Df Residuals:</th>          <td>  1170</td>      <th>  BIC:               </th> <td>   1596.</td>\n",
       "</tr>\n",
       "<tr>\n",
       "  <th>Df Model:</th>              <td>     3</td>      <th>                     </th>     <td> </td>   \n",
       "</tr>\n",
       "<tr>\n",
       "  <th>Covariance Type:</th>      <td>nonrobust</td>    <th>                     </th>     <td> </td>   \n",
       "</tr>\n",
       "</table>\n",
       "<table class=\"simpletable\">\n",
       "<tr>\n",
       "          <td></td>            <th>coef</th>     <th>std err</th>      <th>t</th>      <th>P>|t|</th>  <th>[0.025</th>    <th>0.975]</th>  \n",
       "</tr>\n",
       "<tr>\n",
       "  <th>Intercept</th>        <td>    1.7189</td> <td>    0.385</td> <td>    4.470</td> <td> 0.000</td> <td>    0.964</td> <td>    2.473</td>\n",
       "</tr>\n",
       "<tr>\n",
       "  <th>bwt</th>              <td>   -0.0135</td> <td>    0.006</td> <td>   -2.133</td> <td> 0.033</td> <td>   -0.026</td> <td>   -0.001</td>\n",
       "</tr>\n",
       "<tr>\n",
       "  <th>np.power(bwt, 2)</th> <td> 2.942e-05</td> <td> 2.66e-05</td> <td>    1.108</td> <td> 0.268</td> <td>-2.27e-05</td> <td> 8.15e-05</td>\n",
       "</tr>\n",
       "<tr>\n",
       "  <th>age</th>              <td>   -0.0054</td> <td>    0.002</td> <td>   -2.261</td> <td> 0.024</td> <td>   -0.010</td> <td>   -0.001</td>\n",
       "</tr>\n",
       "</table>\n",
       "<table class=\"simpletable\">\n",
       "<tr>\n",
       "  <th>Omnibus:</th>       <td>7269.881</td> <th>  Durbin-Watson:     </th> <td>   2.054</td>\n",
       "</tr>\n",
       "<tr>\n",
       "  <th>Prob(Omnibus):</th>  <td> 0.000</td>  <th>  Jarque-Bera (JB):  </th> <td> 150.813</td>\n",
       "</tr>\n",
       "<tr>\n",
       "  <th>Skew:</th>           <td> 0.417</td>  <th>  Prob(JB):          </th> <td>1.78e-33</td>\n",
       "</tr>\n",
       "<tr>\n",
       "  <th>Kurtosis:</th>       <td> 1.455</td>  <th>  Cond. No.          </th> <td>4.25e+05</td>\n",
       "</tr>\n",
       "</table><br/><br/>Warnings:<br/>[1] Standard Errors assume that the covariance matrix of the errors is correctly specified.<br/>[2] The condition number is large, 4.25e+05. This might indicate that there are<br/>strong multicollinearity or other numerical problems."
      ],
      "text/plain": [
       "<class 'statsmodels.iolib.summary.Summary'>\n",
       "\"\"\"\n",
       "                            OLS Regression Results                            \n",
       "==============================================================================\n",
       "Dep. Variable:                  smoke   R-squared:                       0.066\n",
       "Model:                            OLS   Adj. R-squared:                  0.063\n",
       "Method:                 Least Squares   F-statistic:                     27.39\n",
       "Date:                Thu, 17 Oct 2019   Prob (F-statistic):           4.02e-17\n",
       "Time:                        15:44:59   Log-Likelihood:                -783.64\n",
       "No. Observations:                1174   AIC:                             1575.\n",
       "Df Residuals:                    1170   BIC:                             1596.\n",
       "Df Model:                           3                                         \n",
       "Covariance Type:            nonrobust                                         \n",
       "====================================================================================\n",
       "                       coef    std err          t      P>|t|      [0.025      0.975]\n",
       "------------------------------------------------------------------------------------\n",
       "Intercept            1.7189      0.385      4.470      0.000       0.964       2.473\n",
       "bwt                 -0.0135      0.006     -2.133      0.033      -0.026      -0.001\n",
       "np.power(bwt, 2)  2.942e-05   2.66e-05      1.108      0.268   -2.27e-05    8.15e-05\n",
       "age                 -0.0054      0.002     -2.261      0.024      -0.010      -0.001\n",
       "==============================================================================\n",
       "Omnibus:                     7269.881   Durbin-Watson:                   2.054\n",
       "Prob(Omnibus):                  0.000   Jarque-Bera (JB):              150.813\n",
       "Skew:                           0.417   Prob(JB):                     1.78e-33\n",
       "Kurtosis:                       1.455   Cond. No.                     4.25e+05\n",
       "==============================================================================\n",
       "\n",
       "Warnings:\n",
       "[1] Standard Errors assume that the covariance matrix of the errors is correctly specified.\n",
       "[2] The condition number is large, 4.25e+05. This might indicate that there are\n",
       "strong multicollinearity or other numerical problems.\n",
       "\"\"\""
      ]
     },
     "execution_count": 67,
     "metadata": {},
     "output_type": "execute_result"
    }
   ],
   "source": [
    "# Q2.3 - Analysis\n",
    "\n",
    "model_mark_inter = ols('smoke ~ bwt + np.power(bwt,2) + age ', data = df).fit().summary()\n",
    "\n",
    "model_mark_inter"
   ]
  },
  {
   "cell_type": "markdown",
   "metadata": {},
   "source": [
    "#### Q2.3 - Explanation\n",
    "This still shows that the p value is larger than 0.05 which gives that it will not reject the null hyphothesis. So this shows that the if there is another variable that associate with this case, it will not effect."
   ]
  },
  {
   "cell_type": "markdown",
   "metadata": {},
   "source": [
    "---\n",
    "### T2 Question 2.4 - Causality between Smoking and Birth Weight (X / 10pt)\n",
    "\n",
    "Does this analysis prove that smoking causes reduced birth weight? Explain in a few sentences why or why not."
   ]
  },
  {
   "cell_type": "markdown",
   "metadata": {},
   "source": [
    "#### Q2.4 - Explanation\n",
    "\n",
    "No, this analysis did not prove that smoking causes reduced birth weight because it did not reject the null hyphothesis which is larger than 0.05 for the pvalue. So this shows that the if there is another variable that associate with this case, it will not effect.\n",
    "\n"
   ]
  }
 ],
 "metadata": {
  "celltoolbar": "Edit Metadata",
  "kernelspec": {
   "display_name": "Python 3",
   "language": "python",
   "name": "python3"
  },
  "language_info": {
   "codemirror_mode": {
    "name": "ipython",
    "version": 3
   },
   "file_extension": ".py",
   "mimetype": "text/x-python",
   "name": "python",
   "nbconvert_exporter": "python",
   "pygments_lexer": "ipython3",
   "version": "3.6.7"
  }
 },
 "nbformat": 4,
 "nbformat_minor": 2
}
